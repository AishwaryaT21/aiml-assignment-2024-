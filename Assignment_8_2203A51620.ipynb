{
  "nbformat": 4,
  "nbformat_minor": 0,
  "metadata": {
    "colab": {
      "provenance": []
    },
    "kernelspec": {
      "name": "python3",
      "display_name": "Python 3"
    },
    "language_info": {
      "name": "python"
    }
  },
  "cells": [
    {
      "cell_type": "code",
      "execution_count": 10,
      "metadata": {
        "colab": {
          "base_uri": "https://localhost:8080/",
          "height": 1000
        },
        "id": "9eQ4aflPYciM",
        "outputId": "6bc3d1ef-c4b4-4b2e-d4c6-1859c28afaa7"
      },
      "outputs": [
        {
          "output_type": "stream",
          "name": "stdout",
          "text": [
            "     Age  Gender  Protein1  Protein2  Protein3  Protein4 Tumour_Stage  \\\n",
            "0     42  FEMALE  0.952560   2.15000  0.007972 -0.048340           II   \n",
            "1     54  FEMALE  0.000000   1.38020 -0.498030 -0.507320           II   \n",
            "2     63  FEMALE -0.523030   1.76400 -0.370190  0.010815           II   \n",
            "3     78  FEMALE -0.876180   0.12943 -0.370380  0.132190            I   \n",
            "4     42  FEMALE  0.226110   1.74910 -0.543970 -0.390210           II   \n",
            "..   ...     ...       ...       ...       ...       ...          ...   \n",
            "329   59  FEMALE  0.024598   1.40050  0.024751  0.280320           II   \n",
            "330   41  FEMALE  0.100120  -0.46547  0.472370 -0.523870            I   \n",
            "331   54  FEMALE  0.753820   1.64250 -0.332850  0.857860           II   \n",
            "332   74  FEMALE  0.972510   1.42680 -0.366570 -0.107820           II   \n",
            "333   66  FEMALE  0.286380   1.39980  0.318830  0.836050           II   \n",
            "\n",
            "                          Histology ER status PR status HER2 status  \\\n",
            "0     Infiltrating Ductal Carcinoma  Positive  Positive    Negative   \n",
            "1     Infiltrating Ductal Carcinoma  Positive  Positive    Negative   \n",
            "2     Infiltrating Ductal Carcinoma  Positive  Positive    Negative   \n",
            "3     Infiltrating Ductal Carcinoma  Positive  Positive    Negative   \n",
            "4     Infiltrating Ductal Carcinoma  Positive  Positive    Positive   \n",
            "..                              ...       ...       ...         ...   \n",
            "329   Infiltrating Ductal Carcinoma  Positive  Positive    Positive   \n",
            "330   Infiltrating Ductal Carcinoma  Positive  Positive    Positive   \n",
            "331   Infiltrating Ductal Carcinoma  Positive  Positive    Negative   \n",
            "332  Infiltrating Lobular Carcinoma  Positive  Positive    Negative   \n",
            "333   Infiltrating Ductal Carcinoma  Positive  Positive    Negative   \n",
            "\n",
            "                    Surgery_type Date_of_Surgery Date_of_Last_Visit  \\\n",
            "0                          Other       20-May-18          26-Aug-18   \n",
            "1                          Other       26-Apr-18          25-Jan-19   \n",
            "2                     Lumpectomy       24-Aug-18          08-Apr-20   \n",
            "3                          Other       16-Nov-18          28-Jul-20   \n",
            "4                     Lumpectomy       12-Dec-18          05-Jan-19   \n",
            "..                           ...             ...                ...   \n",
            "329                   Lumpectomy       15-Jan-19          27-Mar-20   \n",
            "330  Modified Radical Mastectomy       25-Jul-18          23-Apr-19   \n",
            "331            Simple Mastectomy       26-Mar-19          11-Oct-19   \n",
            "332                   Lumpectomy       26-Nov-18          05-Dec-18   \n",
            "333  Modified Radical Mastectomy       04-Feb-19          10-Aug-19   \n",
            "\n",
            "    Patient_Status  \n",
            "0            Alive  \n",
            "1             Dead  \n",
            "2            Alive  \n",
            "3            Alive  \n",
            "4            Alive  \n",
            "..             ...  \n",
            "329          Alive  \n",
            "330          Alive  \n",
            "331           Dead  \n",
            "332          Alive  \n",
            "333           Dead  \n",
            "\n",
            "[334 rows x 15 columns]\n"
          ]
        },
        {
          "output_type": "error",
          "ename": "ValueError",
          "evalue": "could not convert string to float: 'FEMALE'",
          "traceback": [
            "\u001b[0;31m---------------------------------------------------------------------------\u001b[0m",
            "\u001b[0;31mValueError\u001b[0m                                Traceback (most recent call last)",
            "\u001b[0;32m<ipython-input-10-0987af4895cb>\u001b[0m in \u001b[0;36m<cell line: 19>\u001b[0;34m()\u001b[0m\n\u001b[1;32m     17\u001b[0m \u001b[0;31m# Train Decision Tree classifier\u001b[0m\u001b[0;34m\u001b[0m\u001b[0;34m\u001b[0m\u001b[0m\n\u001b[1;32m     18\u001b[0m \u001b[0mmodel\u001b[0m \u001b[0;34m=\u001b[0m \u001b[0mDecisionTreeClassifier\u001b[0m\u001b[0;34m(\u001b[0m\u001b[0;34m)\u001b[0m\u001b[0;34m\u001b[0m\u001b[0;34m\u001b[0m\u001b[0m\n\u001b[0;32m---> 19\u001b[0;31m \u001b[0mmodel\u001b[0m\u001b[0;34m.\u001b[0m\u001b[0mfit\u001b[0m\u001b[0;34m(\u001b[0m\u001b[0mX_train\u001b[0m\u001b[0;34m,\u001b[0m \u001b[0my_train\u001b[0m\u001b[0;34m)\u001b[0m\u001b[0;34m\u001b[0m\u001b[0;34m\u001b[0m\u001b[0m\n\u001b[0m\u001b[1;32m     20\u001b[0m \u001b[0;34m\u001b[0m\u001b[0m\n\u001b[1;32m     21\u001b[0m \u001b[0;31m# Predict on the test set\u001b[0m\u001b[0;34m\u001b[0m\u001b[0;34m\u001b[0m\u001b[0m\n",
            "\u001b[0;32m/usr/local/lib/python3.10/dist-packages/sklearn/tree/_classes.py\u001b[0m in \u001b[0;36mfit\u001b[0;34m(self, X, y, sample_weight, check_input)\u001b[0m\n\u001b[1;32m    887\u001b[0m         \"\"\"\n\u001b[1;32m    888\u001b[0m \u001b[0;34m\u001b[0m\u001b[0m\n\u001b[0;32m--> 889\u001b[0;31m         super().fit(\n\u001b[0m\u001b[1;32m    890\u001b[0m             \u001b[0mX\u001b[0m\u001b[0;34m,\u001b[0m\u001b[0;34m\u001b[0m\u001b[0;34m\u001b[0m\u001b[0m\n\u001b[1;32m    891\u001b[0m             \u001b[0my\u001b[0m\u001b[0;34m,\u001b[0m\u001b[0;34m\u001b[0m\u001b[0;34m\u001b[0m\u001b[0m\n",
            "\u001b[0;32m/usr/local/lib/python3.10/dist-packages/sklearn/tree/_classes.py\u001b[0m in \u001b[0;36mfit\u001b[0;34m(self, X, y, sample_weight, check_input)\u001b[0m\n\u001b[1;32m    184\u001b[0m             \u001b[0mcheck_X_params\u001b[0m \u001b[0;34m=\u001b[0m \u001b[0mdict\u001b[0m\u001b[0;34m(\u001b[0m\u001b[0mdtype\u001b[0m\u001b[0;34m=\u001b[0m\u001b[0mDTYPE\u001b[0m\u001b[0;34m,\u001b[0m \u001b[0maccept_sparse\u001b[0m\u001b[0;34m=\u001b[0m\u001b[0;34m\"csc\"\u001b[0m\u001b[0;34m)\u001b[0m\u001b[0;34m\u001b[0m\u001b[0;34m\u001b[0m\u001b[0m\n\u001b[1;32m    185\u001b[0m             \u001b[0mcheck_y_params\u001b[0m \u001b[0;34m=\u001b[0m \u001b[0mdict\u001b[0m\u001b[0;34m(\u001b[0m\u001b[0mensure_2d\u001b[0m\u001b[0;34m=\u001b[0m\u001b[0;32mFalse\u001b[0m\u001b[0;34m,\u001b[0m \u001b[0mdtype\u001b[0m\u001b[0;34m=\u001b[0m\u001b[0;32mNone\u001b[0m\u001b[0;34m)\u001b[0m\u001b[0;34m\u001b[0m\u001b[0;34m\u001b[0m\u001b[0m\n\u001b[0;32m--> 186\u001b[0;31m             X, y = self._validate_data(\n\u001b[0m\u001b[1;32m    187\u001b[0m                 \u001b[0mX\u001b[0m\u001b[0;34m,\u001b[0m \u001b[0my\u001b[0m\u001b[0;34m,\u001b[0m \u001b[0mvalidate_separately\u001b[0m\u001b[0;34m=\u001b[0m\u001b[0;34m(\u001b[0m\u001b[0mcheck_X_params\u001b[0m\u001b[0;34m,\u001b[0m \u001b[0mcheck_y_params\u001b[0m\u001b[0;34m)\u001b[0m\u001b[0;34m\u001b[0m\u001b[0;34m\u001b[0m\u001b[0m\n\u001b[1;32m    188\u001b[0m             )\n",
            "\u001b[0;32m/usr/local/lib/python3.10/dist-packages/sklearn/base.py\u001b[0m in \u001b[0;36m_validate_data\u001b[0;34m(self, X, y, reset, validate_separately, **check_params)\u001b[0m\n\u001b[1;32m    577\u001b[0m                 \u001b[0;32mif\u001b[0m \u001b[0;34m\"estimator\"\u001b[0m \u001b[0;32mnot\u001b[0m \u001b[0;32min\u001b[0m \u001b[0mcheck_X_params\u001b[0m\u001b[0;34m:\u001b[0m\u001b[0;34m\u001b[0m\u001b[0;34m\u001b[0m\u001b[0m\n\u001b[1;32m    578\u001b[0m                     \u001b[0mcheck_X_params\u001b[0m \u001b[0;34m=\u001b[0m \u001b[0;34m{\u001b[0m\u001b[0;34m**\u001b[0m\u001b[0mdefault_check_params\u001b[0m\u001b[0;34m,\u001b[0m \u001b[0;34m**\u001b[0m\u001b[0mcheck_X_params\u001b[0m\u001b[0;34m}\u001b[0m\u001b[0;34m\u001b[0m\u001b[0;34m\u001b[0m\u001b[0m\n\u001b[0;32m--> 579\u001b[0;31m                 \u001b[0mX\u001b[0m \u001b[0;34m=\u001b[0m \u001b[0mcheck_array\u001b[0m\u001b[0;34m(\u001b[0m\u001b[0mX\u001b[0m\u001b[0;34m,\u001b[0m \u001b[0minput_name\u001b[0m\u001b[0;34m=\u001b[0m\u001b[0;34m\"X\"\u001b[0m\u001b[0;34m,\u001b[0m \u001b[0;34m**\u001b[0m\u001b[0mcheck_X_params\u001b[0m\u001b[0;34m)\u001b[0m\u001b[0;34m\u001b[0m\u001b[0;34m\u001b[0m\u001b[0m\n\u001b[0m\u001b[1;32m    580\u001b[0m                 \u001b[0;32mif\u001b[0m \u001b[0;34m\"estimator\"\u001b[0m \u001b[0;32mnot\u001b[0m \u001b[0;32min\u001b[0m \u001b[0mcheck_y_params\u001b[0m\u001b[0;34m:\u001b[0m\u001b[0;34m\u001b[0m\u001b[0;34m\u001b[0m\u001b[0m\n\u001b[1;32m    581\u001b[0m                     \u001b[0mcheck_y_params\u001b[0m \u001b[0;34m=\u001b[0m \u001b[0;34m{\u001b[0m\u001b[0;34m**\u001b[0m\u001b[0mdefault_check_params\u001b[0m\u001b[0;34m,\u001b[0m \u001b[0;34m**\u001b[0m\u001b[0mcheck_y_params\u001b[0m\u001b[0;34m}\u001b[0m\u001b[0;34m\u001b[0m\u001b[0;34m\u001b[0m\u001b[0m\n",
            "\u001b[0;32m/usr/local/lib/python3.10/dist-packages/sklearn/utils/validation.py\u001b[0m in \u001b[0;36mcheck_array\u001b[0;34m(array, accept_sparse, accept_large_sparse, dtype, order, copy, force_all_finite, ensure_2d, allow_nd, ensure_min_samples, ensure_min_features, estimator, input_name)\u001b[0m\n\u001b[1;32m    877\u001b[0m                     \u001b[0marray\u001b[0m \u001b[0;34m=\u001b[0m \u001b[0mxp\u001b[0m\u001b[0;34m.\u001b[0m\u001b[0mastype\u001b[0m\u001b[0;34m(\u001b[0m\u001b[0marray\u001b[0m\u001b[0;34m,\u001b[0m \u001b[0mdtype\u001b[0m\u001b[0;34m,\u001b[0m \u001b[0mcopy\u001b[0m\u001b[0;34m=\u001b[0m\u001b[0;32mFalse\u001b[0m\u001b[0;34m)\u001b[0m\u001b[0;34m\u001b[0m\u001b[0;34m\u001b[0m\u001b[0m\n\u001b[1;32m    878\u001b[0m                 \u001b[0;32melse\u001b[0m\u001b[0;34m:\u001b[0m\u001b[0;34m\u001b[0m\u001b[0;34m\u001b[0m\u001b[0m\n\u001b[0;32m--> 879\u001b[0;31m                     \u001b[0marray\u001b[0m \u001b[0;34m=\u001b[0m \u001b[0m_asarray_with_order\u001b[0m\u001b[0;34m(\u001b[0m\u001b[0marray\u001b[0m\u001b[0;34m,\u001b[0m \u001b[0morder\u001b[0m\u001b[0;34m=\u001b[0m\u001b[0morder\u001b[0m\u001b[0;34m,\u001b[0m \u001b[0mdtype\u001b[0m\u001b[0;34m=\u001b[0m\u001b[0mdtype\u001b[0m\u001b[0;34m,\u001b[0m \u001b[0mxp\u001b[0m\u001b[0;34m=\u001b[0m\u001b[0mxp\u001b[0m\u001b[0;34m)\u001b[0m\u001b[0;34m\u001b[0m\u001b[0;34m\u001b[0m\u001b[0m\n\u001b[0m\u001b[1;32m    880\u001b[0m             \u001b[0;32mexcept\u001b[0m \u001b[0mComplexWarning\u001b[0m \u001b[0;32mas\u001b[0m \u001b[0mcomplex_warning\u001b[0m\u001b[0;34m:\u001b[0m\u001b[0;34m\u001b[0m\u001b[0;34m\u001b[0m\u001b[0m\n\u001b[1;32m    881\u001b[0m                 raise ValueError(\n",
            "\u001b[0;32m/usr/local/lib/python3.10/dist-packages/sklearn/utils/_array_api.py\u001b[0m in \u001b[0;36m_asarray_with_order\u001b[0;34m(array, dtype, order, copy, xp)\u001b[0m\n\u001b[1;32m    183\u001b[0m     \u001b[0;32mif\u001b[0m \u001b[0mxp\u001b[0m\u001b[0;34m.\u001b[0m\u001b[0m__name__\u001b[0m \u001b[0;32min\u001b[0m \u001b[0;34m{\u001b[0m\u001b[0;34m\"numpy\"\u001b[0m\u001b[0;34m,\u001b[0m \u001b[0;34m\"numpy.array_api\"\u001b[0m\u001b[0;34m}\u001b[0m\u001b[0;34m:\u001b[0m\u001b[0;34m\u001b[0m\u001b[0;34m\u001b[0m\u001b[0m\n\u001b[1;32m    184\u001b[0m         \u001b[0;31m# Use NumPy API to support order\u001b[0m\u001b[0;34m\u001b[0m\u001b[0;34m\u001b[0m\u001b[0m\n\u001b[0;32m--> 185\u001b[0;31m         \u001b[0marray\u001b[0m \u001b[0;34m=\u001b[0m \u001b[0mnumpy\u001b[0m\u001b[0;34m.\u001b[0m\u001b[0masarray\u001b[0m\u001b[0;34m(\u001b[0m\u001b[0marray\u001b[0m\u001b[0;34m,\u001b[0m \u001b[0morder\u001b[0m\u001b[0;34m=\u001b[0m\u001b[0morder\u001b[0m\u001b[0;34m,\u001b[0m \u001b[0mdtype\u001b[0m\u001b[0;34m=\u001b[0m\u001b[0mdtype\u001b[0m\u001b[0;34m)\u001b[0m\u001b[0;34m\u001b[0m\u001b[0;34m\u001b[0m\u001b[0m\n\u001b[0m\u001b[1;32m    186\u001b[0m         \u001b[0;32mreturn\u001b[0m \u001b[0mxp\u001b[0m\u001b[0;34m.\u001b[0m\u001b[0masarray\u001b[0m\u001b[0;34m(\u001b[0m\u001b[0marray\u001b[0m\u001b[0;34m,\u001b[0m \u001b[0mcopy\u001b[0m\u001b[0;34m=\u001b[0m\u001b[0mcopy\u001b[0m\u001b[0;34m)\u001b[0m\u001b[0;34m\u001b[0m\u001b[0;34m\u001b[0m\u001b[0m\n\u001b[1;32m    187\u001b[0m     \u001b[0;32melse\u001b[0m\u001b[0;34m:\u001b[0m\u001b[0;34m\u001b[0m\u001b[0;34m\u001b[0m\u001b[0m\n",
            "\u001b[0;32m/usr/local/lib/python3.10/dist-packages/pandas/core/generic.py\u001b[0m in \u001b[0;36m__array__\u001b[0;34m(self, dtype)\u001b[0m\n\u001b[1;32m   1996\u001b[0m     \u001b[0;32mdef\u001b[0m \u001b[0m__array__\u001b[0m\u001b[0;34m(\u001b[0m\u001b[0mself\u001b[0m\u001b[0;34m,\u001b[0m \u001b[0mdtype\u001b[0m\u001b[0;34m:\u001b[0m \u001b[0mnpt\u001b[0m\u001b[0;34m.\u001b[0m\u001b[0mDTypeLike\u001b[0m \u001b[0;34m|\u001b[0m \u001b[0;32mNone\u001b[0m \u001b[0;34m=\u001b[0m \u001b[0;32mNone\u001b[0m\u001b[0;34m)\u001b[0m \u001b[0;34m->\u001b[0m \u001b[0mnp\u001b[0m\u001b[0;34m.\u001b[0m\u001b[0mndarray\u001b[0m\u001b[0;34m:\u001b[0m\u001b[0;34m\u001b[0m\u001b[0;34m\u001b[0m\u001b[0m\n\u001b[1;32m   1997\u001b[0m         \u001b[0mvalues\u001b[0m \u001b[0;34m=\u001b[0m \u001b[0mself\u001b[0m\u001b[0;34m.\u001b[0m\u001b[0m_values\u001b[0m\u001b[0;34m\u001b[0m\u001b[0;34m\u001b[0m\u001b[0m\n\u001b[0;32m-> 1998\u001b[0;31m         \u001b[0marr\u001b[0m \u001b[0;34m=\u001b[0m \u001b[0mnp\u001b[0m\u001b[0;34m.\u001b[0m\u001b[0masarray\u001b[0m\u001b[0;34m(\u001b[0m\u001b[0mvalues\u001b[0m\u001b[0;34m,\u001b[0m \u001b[0mdtype\u001b[0m\u001b[0;34m=\u001b[0m\u001b[0mdtype\u001b[0m\u001b[0;34m)\u001b[0m\u001b[0;34m\u001b[0m\u001b[0;34m\u001b[0m\u001b[0m\n\u001b[0m\u001b[1;32m   1999\u001b[0m         if (\n\u001b[1;32m   2000\u001b[0m             \u001b[0mastype_is_view\u001b[0m\u001b[0;34m(\u001b[0m\u001b[0mvalues\u001b[0m\u001b[0;34m.\u001b[0m\u001b[0mdtype\u001b[0m\u001b[0;34m,\u001b[0m \u001b[0marr\u001b[0m\u001b[0;34m.\u001b[0m\u001b[0mdtype\u001b[0m\u001b[0;34m)\u001b[0m\u001b[0;34m\u001b[0m\u001b[0;34m\u001b[0m\u001b[0m\n",
            "\u001b[0;31mValueError\u001b[0m: could not convert string to float: 'FEMALE'"
          ]
        }
      ],
      "source": [
        "import pandas as pd\n",
        "from sklearn.model_selection import train_test_split\n",
        "from sklearn.tree import DecisionTreeClassifier\n",
        "from sklearn.metrics import accuracy_score, precision_score, recall_score, f1_score\n",
        "\n",
        "# Read the data using pandas\n",
        "data = pd.read_csv(\"/content/breast_cancer_survival.csv\")\n",
        "\n",
        "# Separate features and target variable\n",
        "print(data)\n",
        "X = data.drop(columns=[\"Patient_Status\"])\n",
        "y = data[\"Patient_Status\"]\n",
        "\n",
        "# Split the data into training and testing sets\n",
        "X_train, X_test, y_train, y_test = train_test_split(X, y, test_size=0.2, random_state=42)\n",
        "\n",
        "# Train Decision Tree classifier\n",
        "model = DecisionTreeClassifier()\n",
        "model.fit(X_train, y_train)\n",
        "\n",
        "# Predict on the test set\n",
        "y_pred = model.predict(X_test)\n",
        "\n",
        "# Calculate metrics\n",
        "accuracy = accuracy_score(y_test, y_pred)\n",
        "precision = precision_score(y_test, y_pred, average='binary')  # if binary classification\n",
        "recall = recall_score(y_test, y_pred, average='binary')  # if binary classification\n",
        "f1 = f1_score(y_test, y_pred, average='binary')  # if binary classification\n",
        "\n",
        "print(\"Accuracy:\", accuracy)\n",
        "print(\"Precision:\", precision)\n",
        "print(\"Recall:\", recall)\n",
        "print(\"F1-score:\", f1)"
      ]
    },
    {
      "cell_type": "code",
      "source": [
        "from google.colab import drive\n",
        "drive.mount('/content/drive')"
      ],
      "metadata": {
        "id": "w0_UAQz9loEi"
      },
      "execution_count": null,
      "outputs": []
    },
    {
      "cell_type": "code",
      "source": [],
      "metadata": {
        "id": "CKxjmz3ce2up"
      },
      "execution_count": null,
      "outputs": []
    },
    {
      "cell_type": "code",
      "source": [
        "print(dd)"
      ],
      "metadata": {
        "colab": {
          "base_uri": "https://localhost:8080/",
          "height": 141
        },
        "id": "ARqsKhcjcFht",
        "outputId": "9696fc04-3b1f-4427-df32-0975be74bf4b"
      },
      "execution_count": null,
      "outputs": [
        {
          "output_type": "error",
          "ename": "NameError",
          "evalue": "name 'dd' is not defined",
          "traceback": [
            "\u001b[0;31m---------------------------------------------------------------------------\u001b[0m",
            "\u001b[0;31mNameError\u001b[0m                                 Traceback (most recent call last)",
            "\u001b[0;32m<ipython-input-2-412a2479e7d8>\u001b[0m in \u001b[0;36m<cell line: 1>\u001b[0;34m()\u001b[0m\n\u001b[0;32m----> 1\u001b[0;31m \u001b[0mprint\u001b[0m\u001b[0;34m(\u001b[0m\u001b[0mdd\u001b[0m\u001b[0;34m)\u001b[0m\u001b[0;34m\u001b[0m\u001b[0;34m\u001b[0m\u001b[0m\n\u001b[0m",
            "\u001b[0;31mNameError\u001b[0m: name 'dd' is not defined"
          ]
        }
      ]
    },
    {
      "cell_type": "code",
      "source": [
        "import pandas as pd\n",
        "\n",
        "# Read the data\n",
        "data = pd.read_csv(\"/content/breast_cancer_survival.csv\")\n",
        "\n",
        "# Convert 'Patient_Status' to binary values\n",
        "data['Patient_Status'] = data['Patient_Status'].apply(lambda x: 1 if x == 'Alive' else 0)\n",
        "\n",
        "# Now 'Alive' is represented as 1 and 'Dead' as 0\n",
        "print(data['Patient_Status'])"
      ],
      "metadata": {
        "colab": {
          "base_uri": "https://localhost:8080/"
        },
        "id": "qUheCkilcZS-",
        "outputId": "5de80c3e-052c-452c-8c42-d42052e1d59e"
      },
      "execution_count": null,
      "outputs": [
        {
          "output_type": "stream",
          "name": "stdout",
          "text": [
            "0      1\n",
            "1      0\n",
            "2      1\n",
            "3      1\n",
            "4      1\n",
            "      ..\n",
            "329    1\n",
            "330    1\n",
            "331    0\n",
            "332    1\n",
            "333    0\n",
            "Name: Patient_Status, Length: 334, dtype: int64\n"
          ]
        }
      ]
    },
    {
      "cell_type": "code",
      "source": [
        "import pandas as pd\n",
        "\n",
        "# Assuming your Data\n",
        "dd.loc[[0, 1], 'Gender'] = 'MALE'\n",
        "\n",
        "print(data)"
      ],
      "metadata": {
        "colab": {
          "base_uri": "https://localhost:8080/",
          "height": 211
        },
        "id": "qmfouMq3e4Zq",
        "outputId": "26a0533e-f62c-48cb-ac42-24dc2c3aeff0"
      },
      "execution_count": null,
      "outputs": [
        {
          "output_type": "error",
          "ename": "NameError",
          "evalue": "name 'dd' is not defined",
          "traceback": [
            "\u001b[0;31m---------------------------------------------------------------------------\u001b[0m",
            "\u001b[0;31mNameError\u001b[0m                                 Traceback (most recent call last)",
            "\u001b[0;32m<ipython-input-9-8543f6161b2c>\u001b[0m in \u001b[0;36m<cell line: 4>\u001b[0;34m()\u001b[0m\n\u001b[1;32m      2\u001b[0m \u001b[0;34m\u001b[0m\u001b[0m\n\u001b[1;32m      3\u001b[0m \u001b[0;31m# Assuming your Data\u001b[0m\u001b[0;34m\u001b[0m\u001b[0;34m\u001b[0m\u001b[0m\n\u001b[0;32m----> 4\u001b[0;31m \u001b[0mdd\u001b[0m\u001b[0;34m.\u001b[0m\u001b[0mloc\u001b[0m\u001b[0;34m[\u001b[0m\u001b[0;34m[\u001b[0m\u001b[0;36m0\u001b[0m\u001b[0;34m,\u001b[0m \u001b[0;36m1\u001b[0m\u001b[0;34m]\u001b[0m\u001b[0;34m,\u001b[0m \u001b[0;34m'Gender'\u001b[0m\u001b[0;34m]\u001b[0m \u001b[0;34m=\u001b[0m \u001b[0;34m'MALE'\u001b[0m\u001b[0;34m\u001b[0m\u001b[0;34m\u001b[0m\u001b[0m\n\u001b[0m\u001b[1;32m      5\u001b[0m \u001b[0;34m\u001b[0m\u001b[0m\n\u001b[1;32m      6\u001b[0m \u001b[0mprint\u001b[0m\u001b[0;34m(\u001b[0m\u001b[0mdata\u001b[0m\u001b[0;34m)\u001b[0m\u001b[0;34m\u001b[0m\u001b[0;34m\u001b[0m\u001b[0m\n",
            "\u001b[0;31mNameError\u001b[0m: name 'dd' is not defined"
          ]
        }
      ]
    },
    {
      "cell_type": "code",
      "source": [
        "import pandas as pd\n",
        "from roman import fromRoman\n",
        "\n",
        "# Read the data\n",
        "data = pd.read_csv(\"/content/breast_cancer_survival.csv \")\n",
        "\n",
        "# Function to convert Roman numerals to normal numbers\n",
        "def roman_to_normal(roman_numeral):\n",
        "   try:\n",
        "return fromRoman(roman_numeral)\n",
        "   except:\n",
        "return roman_numeral\n",
        "\n",
        "# Convert 'Tumour_Stage' column from Roman numerals to normal numbers\n",
        "data['Tumour_Stage'] = data['Tumour_Stage'].apply(roman_to_normal)\n",
        "\n",
        "# Now the 'Tumour_Stage' column should have normal numbers\n",
        "print(data['Tumour_Stage'])"
      ],
      "metadata": {
        "colab": {
          "base_uri": "https://localhost:8080/",
          "height": 106
        },
        "id": "xGG68ytLfdAr",
        "outputId": "3e06046f-781b-4304-9803-6902c923d958"
      },
      "execution_count": null,
      "outputs": [
        {
          "output_type": "error",
          "ename": "IndentationError",
          "evalue": "expected an indented block after 'try' statement on line 9 (<ipython-input-16-1e0abe5c563d>, line 10)",
          "traceback": [
            "\u001b[0;36m  File \u001b[0;32m\"<ipython-input-16-1e0abe5c563d>\"\u001b[0;36m, line \u001b[0;32m10\u001b[0m\n\u001b[0;31m    return fromRoman(roman_numeral)\u001b[0m\n\u001b[0m                                    ^\u001b[0m\n\u001b[0;31mIndentationError\u001b[0m\u001b[0;31m:\u001b[0m expected an indented block after 'try' statement on line 9\n"
          ]
        }
      ]
    },
    {
      "cell_type": "code",
      "source": [
        "import pandas as pd\n",
        "\n",
        "# Assuming your DataFrame is named 'data'\n",
        "\n",
        "# Convert specific columns to numbers\n",
        "data['Protein1'] = pd.to_numeric(data['Protein1'], errors='coerce')\n",
        "data['Protein2'] = pd.to_numeric(data['Protein2'], errors='coerce')\n",
        "data['Protein3'] = pd.to_numeric(data['Protein3'], errors='coerce')\n",
        "data['Protein4'] = pd.to_numeric(data['Protein4'], errors='coerce')\n",
        "\n",
        "# Convert 'Tumour_Stage' column to numbers (assuming it contains strings like 'I', 'II', 'III', etc.)\n",
        "# If it contains Roman numerals, you may first convert them to numbers using the function you provided\n",
        "# For example:\n",
        "# data['Tumour_Stage'] = data['Tumour_Stage'].apply(roman_to_normal)\n",
        "\n",
        "# Convert other columns if needed\n",
        "\n",
        "# Now the specified columns should contain numeric values\n",
        "print(data.head())"
      ],
      "metadata": {
        "colab": {
          "base_uri": "https://localhost:8080/"
        },
        "id": "PYPXqM1Jg8u1",
        "outputId": "3a57fe53-abb8-4570-9476-5b3f145c6164"
      },
      "execution_count": null,
      "outputs": [
        {
          "output_type": "stream",
          "name": "stdout",
          "text": [
            "   Age  Gender  Protein1  Protein2  Protein3  Protein4 Tumour_Stage  \\\n",
            "0   42  FEMALE   0.95256   2.15000  0.007972 -0.048340           II   \n",
            "1   54  FEMALE   0.00000   1.38020 -0.498030 -0.507320           II   \n",
            "2   63  FEMALE  -0.52303   1.76400 -0.370190  0.010815           II   \n",
            "3   78  FEMALE  -0.87618   0.12943 -0.370380  0.132190            I   \n",
            "4   42  FEMALE   0.22611   1.74910 -0.543970 -0.390210           II   \n",
            "\n",
            "                       Histology ER status PR status HER2 status Surgery_type  \\\n",
            "0  Infiltrating Ductal Carcinoma  Positive  Positive    Negative        Other   \n",
            "1  Infiltrating Ductal Carcinoma  Positive  Positive    Negative        Other   \n",
            "2  Infiltrating Ductal Carcinoma  Positive  Positive    Negative   Lumpectomy   \n",
            "3  Infiltrating Ductal Carcinoma  Positive  Positive    Negative        Other   \n",
            "4  Infiltrating Ductal Carcinoma  Positive  Positive    Positive   Lumpectomy   \n",
            "\n",
            "  Date_of_Surgery Date_of_Last_Visit  Patient_Status  \n",
            "0       20-May-18          26-Aug-18               1  \n",
            "1       26-Apr-18          25-Jan-19               0  \n",
            "2       24-Aug-18          08-Apr-20               1  \n",
            "3       16-Nov-18          28-Jul-20               1  \n",
            "4       12-Dec-18          05-Jan-19               1  \n"
          ]
        }
      ]
    },
    {
      "cell_type": "code",
      "source": [
        "import pandas as pd\n",
        "\n",
        "# Read the data\n",
        "data = pd.read_csv(\"/content/breast_cancer_survival.csv\")\n",
        "\n",
        "# Convert specific columns to numeric\n",
        "numeric_columns = ['Age', 'Protein1', 'Protein2', 'Protein3', 'Protein4']\n",
        "data[numeric_columns] = data[numeric_columns].apply(pd.to_numeric, errors='coerce')\n",
        "\n",
        "# Now, categorical columns need special handling:\n",
        "# For example, you can use one-hot encoding for 'Gender' column:\n",
        "data = pd.get_dummies(data, columns=['Gender'], drop_first=True)  # Assuming Male is 1 and Female is 0\n",
        "\n",
        "# For 'Tumour_Stage', if it's ordinal, you may map it to numerical values:\n",
        "tumour_stage_mapping = {'I': 1, 'II': 2, 'III': 3}  # Define the mapping\n",
        "data['Tumour_Stage'] = data['Tumour_Stage'].map(tumour_stage_mapping)\n",
        "\n",
        "# Convert other categorical columns if needed\n",
        "\n",
        "# Now, the DataFrame should have numeric values where applicable\n",
        "print(data.head())"
      ],
      "metadata": {
        "colab": {
          "base_uri": "https://localhost:8080/"
        },
        "id": "q1ndOrRyiVTm",
        "outputId": "df66fe8f-6831-43a9-da01-f0cb0b59fa19"
      },
      "execution_count": 11,
      "outputs": [
        {
          "output_type": "stream",
          "name": "stdout",
          "text": [
            "   Age  Protein1  Protein2  Protein3  Protein4  Tumour_Stage  \\\n",
            "0   42   0.95256   2.15000  0.007972 -0.048340             2   \n",
            "1   54   0.00000   1.38020 -0.498030 -0.507320             2   \n",
            "2   63  -0.52303   1.76400 -0.370190  0.010815             2   \n",
            "3   78  -0.87618   0.12943 -0.370380  0.132190             1   \n",
            "4   42   0.22611   1.74910 -0.543970 -0.390210             2   \n",
            "\n",
            "                       Histology ER status PR status HER2 status Surgery_type  \\\n",
            "0  Infiltrating Ductal Carcinoma  Positive  Positive    Negative        Other   \n",
            "1  Infiltrating Ductal Carcinoma  Positive  Positive    Negative        Other   \n",
            "2  Infiltrating Ductal Carcinoma  Positive  Positive    Negative   Lumpectomy   \n",
            "3  Infiltrating Ductal Carcinoma  Positive  Positive    Negative        Other   \n",
            "4  Infiltrating Ductal Carcinoma  Positive  Positive    Positive   Lumpectomy   \n",
            "\n",
            "  Date_of_Surgery Date_of_Last_Visit Patient_Status  Gender_MALE  \n",
            "0       20-May-18          26-Aug-18          Alive        False  \n",
            "1       26-Apr-18          25-Jan-19           Dead        False  \n",
            "2       24-Aug-18          08-Apr-20          Alive        False  \n",
            "3       16-Nov-18          28-Jul-20          Alive        False  \n",
            "4       12-Dec-18          05-Jan-19          Alive        False  \n"
          ]
        }
      ]
    },
    {
      "cell_type": "code",
      "source": [
        "# Assuming your DataFrame is named 'data'\n",
        "\n",
        "# Map categories to numerical values\n",
        "status_mapping = {'Alive': 1, 'Dead': 0}\n",
        "\n",
        "# Convert 'Patient_Status' column to numerical values\n",
        "data['Patient_Status'] = data['Patient_Status'].map(status_mapping)\n",
        "\n",
        "# Now, the 'Patient_Status' column should contain numerical values\n",
        "print(data.head())"
      ],
      "metadata": {
        "colab": {
          "base_uri": "https://localhost:8080/"
        },
        "id": "eSqjLWzWjWco",
        "outputId": "2221a43f-df2e-4e1c-f3d9-c493e1bb235f"
      },
      "execution_count": 12,
      "outputs": [
        {
          "output_type": "stream",
          "name": "stdout",
          "text": [
            "   Age  Protein1  Protein2  Protein3  Protein4  Tumour_Stage  \\\n",
            "0   42   0.95256   2.15000  0.007972 -0.048340             2   \n",
            "1   54   0.00000   1.38020 -0.498030 -0.507320             2   \n",
            "2   63  -0.52303   1.76400 -0.370190  0.010815             2   \n",
            "3   78  -0.87618   0.12943 -0.370380  0.132190             1   \n",
            "4   42   0.22611   1.74910 -0.543970 -0.390210             2   \n",
            "\n",
            "                       Histology ER status PR status HER2 status Surgery_type  \\\n",
            "0  Infiltrating Ductal Carcinoma  Positive  Positive    Negative        Other   \n",
            "1  Infiltrating Ductal Carcinoma  Positive  Positive    Negative        Other   \n",
            "2  Infiltrating Ductal Carcinoma  Positive  Positive    Negative   Lumpectomy   \n",
            "3  Infiltrating Ductal Carcinoma  Positive  Positive    Negative        Other   \n",
            "4  Infiltrating Ductal Carcinoma  Positive  Positive    Positive   Lumpectomy   \n",
            "\n",
            "  Date_of_Surgery Date_of_Last_Visit  Patient_Status  Gender_MALE  \n",
            "0       20-May-18          26-Aug-18             1.0        False  \n",
            "1       26-Apr-18          25-Jan-19             0.0        False  \n",
            "2       24-Aug-18          08-Apr-20             1.0        False  \n",
            "3       16-Nov-18          28-Jul-20             1.0        False  \n",
            "4       12-Dec-18          05-Jan-19             1.0        False  \n"
          ]
        }
      ]
    },
    {
      "cell_type": "code",
      "source": [
        "print(data)"
      ],
      "metadata": {
        "colab": {
          "base_uri": "https://localhost:8080/"
        },
        "id": "NTxshf5Mk-Y_",
        "outputId": "af70e94a-4ca7-4616-8781-d30e269fd6fa"
      },
      "execution_count": 13,
      "outputs": [
        {
          "output_type": "stream",
          "name": "stdout",
          "text": [
            "     Age  Protein1  Protein2  Protein3  Protein4  Tumour_Stage  \\\n",
            "0     42  0.952560   2.15000  0.007972 -0.048340             2   \n",
            "1     54  0.000000   1.38020 -0.498030 -0.507320             2   \n",
            "2     63 -0.523030   1.76400 -0.370190  0.010815             2   \n",
            "3     78 -0.876180   0.12943 -0.370380  0.132190             1   \n",
            "4     42  0.226110   1.74910 -0.543970 -0.390210             2   \n",
            "..   ...       ...       ...       ...       ...           ...   \n",
            "329   59  0.024598   1.40050  0.024751  0.280320             2   \n",
            "330   41  0.100120  -0.46547  0.472370 -0.523870             1   \n",
            "331   54  0.753820   1.64250 -0.332850  0.857860             2   \n",
            "332   74  0.972510   1.42680 -0.366570 -0.107820             2   \n",
            "333   66  0.286380   1.39980  0.318830  0.836050             2   \n",
            "\n",
            "                          Histology ER status PR status HER2 status  \\\n",
            "0     Infiltrating Ductal Carcinoma  Positive  Positive    Negative   \n",
            "1     Infiltrating Ductal Carcinoma  Positive  Positive    Negative   \n",
            "2     Infiltrating Ductal Carcinoma  Positive  Positive    Negative   \n",
            "3     Infiltrating Ductal Carcinoma  Positive  Positive    Negative   \n",
            "4     Infiltrating Ductal Carcinoma  Positive  Positive    Positive   \n",
            "..                              ...       ...       ...         ...   \n",
            "329   Infiltrating Ductal Carcinoma  Positive  Positive    Positive   \n",
            "330   Infiltrating Ductal Carcinoma  Positive  Positive    Positive   \n",
            "331   Infiltrating Ductal Carcinoma  Positive  Positive    Negative   \n",
            "332  Infiltrating Lobular Carcinoma  Positive  Positive    Negative   \n",
            "333   Infiltrating Ductal Carcinoma  Positive  Positive    Negative   \n",
            "\n",
            "                    Surgery_type Date_of_Surgery Date_of_Last_Visit  \\\n",
            "0                          Other       20-May-18          26-Aug-18   \n",
            "1                          Other       26-Apr-18          25-Jan-19   \n",
            "2                     Lumpectomy       24-Aug-18          08-Apr-20   \n",
            "3                          Other       16-Nov-18          28-Jul-20   \n",
            "4                     Lumpectomy       12-Dec-18          05-Jan-19   \n",
            "..                           ...             ...                ...   \n",
            "329                   Lumpectomy       15-Jan-19          27-Mar-20   \n",
            "330  Modified Radical Mastectomy       25-Jul-18          23-Apr-19   \n",
            "331            Simple Mastectomy       26-Mar-19          11-Oct-19   \n",
            "332                   Lumpectomy       26-Nov-18          05-Dec-18   \n",
            "333  Modified Radical Mastectomy       04-Feb-19          10-Aug-19   \n",
            "\n",
            "     Patient_Status  Gender_MALE  \n",
            "0               1.0        False  \n",
            "1               0.0        False  \n",
            "2               1.0        False  \n",
            "3               1.0        False  \n",
            "4               1.0        False  \n",
            "..              ...          ...  \n",
            "329             1.0        False  \n",
            "330             1.0        False  \n",
            "331             0.0        False  \n",
            "332             1.0        False  \n",
            "333             0.0        False  \n",
            "\n",
            "[334 rows x 15 columns]\n"
          ]
        }
      ]
    },
    {
      "cell_type": "code",
      "source": [
        "data=data.drop('Histology',axis=1)"
      ],
      "metadata": {
        "id": "Gue0AP-PkmLI"
      },
      "execution_count": null,
      "outputs": []
    },
    {
      "cell_type": "code",
      "source": [
        "data=data.drop('ER status',axis=1)"
      ],
      "metadata": {
        "id": "1q36QU6elH8S"
      },
      "execution_count": 26,
      "outputs": []
    },
    {
      "cell_type": "code",
      "source": [
        "print(data)"
      ],
      "metadata": {
        "colab": {
          "base_uri": "https://localhost:8080/"
        },
        "id": "ctfwjkHnln04",
        "outputId": "144c4d68-8d27-4d4a-e058-c88dc5abf078"
      },
      "execution_count": null,
      "outputs": [
        {
          "output_type": "stream",
          "name": "stdout",
          "text": [
            "     Age  Protein1  Protein2  Protein3  Protein4  Tumour_Stage PR status  \\\n",
            "0     42  0.952560   2.15000  0.007972 -0.048340             2  Positive   \n",
            "1     54  0.000000   1.38020 -0.498030 -0.507320             2  Positive   \n",
            "2     63 -0.523030   1.76400 -0.370190  0.010815             2  Positive   \n",
            "3     78 -0.876180   0.12943 -0.370380  0.132190             1  Positive   \n",
            "4     42  0.226110   1.74910 -0.543970 -0.390210             2  Positive   \n",
            "..   ...       ...       ...       ...       ...           ...       ...   \n",
            "329   59  0.024598   1.40050  0.024751  0.280320             2  Positive   \n",
            "330   41  0.100120  -0.46547  0.472370 -0.523870             1  Positive   \n",
            "331   54  0.753820   1.64250 -0.332850  0.857860             2  Positive   \n",
            "332   74  0.972510   1.42680 -0.366570 -0.107820             2  Positive   \n",
            "333   66  0.286380   1.39980  0.318830  0.836050             2  Positive   \n",
            "\n",
            "    HER2 status                 Surgery_type Date_of_Surgery  \\\n",
            "0      Negative                        Other       20-May-18   \n",
            "1      Negative                        Other       26-Apr-18   \n",
            "2      Negative                   Lumpectomy       24-Aug-18   \n",
            "3      Negative                        Other       16-Nov-18   \n",
            "4      Positive                   Lumpectomy       12-Dec-18   \n",
            "..          ...                          ...             ...   \n",
            "329    Positive                   Lumpectomy       15-Jan-19   \n",
            "330    Positive  Modified Radical Mastectomy       25-Jul-18   \n",
            "331    Negative            Simple Mastectomy       26-Mar-19   \n",
            "332    Negative                   Lumpectomy       26-Nov-18   \n",
            "333    Negative  Modified Radical Mastectomy       04-Feb-19   \n",
            "\n",
            "    Date_of_Last_Visit  Patient_Status  Gender_MALE  \n",
            "0            26-Aug-18             1.0            0  \n",
            "1            25-Jan-19             0.0            0  \n",
            "2            08-Apr-20             1.0            0  \n",
            "3            28-Jul-20             1.0            0  \n",
            "4            05-Jan-19             1.0            0  \n",
            "..                 ...             ...          ...  \n",
            "329          27-Mar-20             1.0            0  \n",
            "330          23-Apr-19             1.0            0  \n",
            "331          11-Oct-19             0.0            0  \n",
            "332          05-Dec-18             1.0            0  \n",
            "333          10-Aug-19             0.0            0  \n",
            "\n",
            "[334 rows x 13 columns]\n"
          ]
        }
      ]
    },
    {
      "cell_type": "code",
      "source": [
        "data=data.drop('PR status',axis=1)"
      ],
      "metadata": {
        "id": "zpGMZXMxlstP"
      },
      "execution_count": 15,
      "outputs": []
    },
    {
      "cell_type": "code",
      "source": [
        "print(data)"
      ],
      "metadata": {
        "colab": {
          "base_uri": "https://localhost:8080/"
        },
        "id": "XCzI-ka5l-4G",
        "outputId": "76187327-d3be-490e-d8c9-6d76c3395fcd"
      },
      "execution_count": 16,
      "outputs": [
        {
          "output_type": "stream",
          "name": "stdout",
          "text": [
            "     Age  Protein1  Protein2  Protein3  Protein4  Tumour_Stage ER status  \\\n",
            "0     42  0.952560   2.15000  0.007972 -0.048340             2  Positive   \n",
            "1     54  0.000000   1.38020 -0.498030 -0.507320             2  Positive   \n",
            "2     63 -0.523030   1.76400 -0.370190  0.010815             2  Positive   \n",
            "3     78 -0.876180   0.12943 -0.370380  0.132190             1  Positive   \n",
            "4     42  0.226110   1.74910 -0.543970 -0.390210             2  Positive   \n",
            "..   ...       ...       ...       ...       ...           ...       ...   \n",
            "329   59  0.024598   1.40050  0.024751  0.280320             2  Positive   \n",
            "330   41  0.100120  -0.46547  0.472370 -0.523870             1  Positive   \n",
            "331   54  0.753820   1.64250 -0.332850  0.857860             2  Positive   \n",
            "332   74  0.972510   1.42680 -0.366570 -0.107820             2  Positive   \n",
            "333   66  0.286380   1.39980  0.318830  0.836050             2  Positive   \n",
            "\n",
            "    HER2 status                 Surgery_type Date_of_Surgery  \\\n",
            "0      Negative                        Other       20-May-18   \n",
            "1      Negative                        Other       26-Apr-18   \n",
            "2      Negative                   Lumpectomy       24-Aug-18   \n",
            "3      Negative                        Other       16-Nov-18   \n",
            "4      Positive                   Lumpectomy       12-Dec-18   \n",
            "..          ...                          ...             ...   \n",
            "329    Positive                   Lumpectomy       15-Jan-19   \n",
            "330    Positive  Modified Radical Mastectomy       25-Jul-18   \n",
            "331    Negative            Simple Mastectomy       26-Mar-19   \n",
            "332    Negative                   Lumpectomy       26-Nov-18   \n",
            "333    Negative  Modified Radical Mastectomy       04-Feb-19   \n",
            "\n",
            "    Date_of_Last_Visit  Patient_Status  Gender_MALE  \n",
            "0            26-Aug-18             1.0        False  \n",
            "1            25-Jan-19             0.0        False  \n",
            "2            08-Apr-20             1.0        False  \n",
            "3            28-Jul-20             1.0        False  \n",
            "4            05-Jan-19             1.0        False  \n",
            "..                 ...             ...          ...  \n",
            "329          27-Mar-20             1.0        False  \n",
            "330          23-Apr-19             1.0        False  \n",
            "331          11-Oct-19             0.0        False  \n",
            "332          05-Dec-18             1.0        False  \n",
            "333          10-Aug-19             0.0        False  \n",
            "\n",
            "[334 rows x 13 columns]\n"
          ]
        }
      ]
    },
    {
      "cell_type": "code",
      "source": [
        "data=data.drop('HER2 status',axis=1)"
      ],
      "metadata": {
        "id": "fS46kuWDmKat"
      },
      "execution_count": 17,
      "outputs": []
    },
    {
      "cell_type": "code",
      "source": [
        "print(data)"
      ],
      "metadata": {
        "colab": {
          "base_uri": "https://localhost:8080/"
        },
        "id": "E3sZ1l8vmRSK",
        "outputId": "5d7be5fc-6ca6-4320-bb5e-6de9c30273c8"
      },
      "execution_count": 18,
      "outputs": [
        {
          "output_type": "stream",
          "name": "stdout",
          "text": [
            "     Age  Protein1  Protein2  Protein3  Protein4  Tumour_Stage ER status  \\\n",
            "0     42  0.952560   2.15000  0.007972 -0.048340             2  Positive   \n",
            "1     54  0.000000   1.38020 -0.498030 -0.507320             2  Positive   \n",
            "2     63 -0.523030   1.76400 -0.370190  0.010815             2  Positive   \n",
            "3     78 -0.876180   0.12943 -0.370380  0.132190             1  Positive   \n",
            "4     42  0.226110   1.74910 -0.543970 -0.390210             2  Positive   \n",
            "..   ...       ...       ...       ...       ...           ...       ...   \n",
            "329   59  0.024598   1.40050  0.024751  0.280320             2  Positive   \n",
            "330   41  0.100120  -0.46547  0.472370 -0.523870             1  Positive   \n",
            "331   54  0.753820   1.64250 -0.332850  0.857860             2  Positive   \n",
            "332   74  0.972510   1.42680 -0.366570 -0.107820             2  Positive   \n",
            "333   66  0.286380   1.39980  0.318830  0.836050             2  Positive   \n",
            "\n",
            "                    Surgery_type Date_of_Surgery Date_of_Last_Visit  \\\n",
            "0                          Other       20-May-18          26-Aug-18   \n",
            "1                          Other       26-Apr-18          25-Jan-19   \n",
            "2                     Lumpectomy       24-Aug-18          08-Apr-20   \n",
            "3                          Other       16-Nov-18          28-Jul-20   \n",
            "4                     Lumpectomy       12-Dec-18          05-Jan-19   \n",
            "..                           ...             ...                ...   \n",
            "329                   Lumpectomy       15-Jan-19          27-Mar-20   \n",
            "330  Modified Radical Mastectomy       25-Jul-18          23-Apr-19   \n",
            "331            Simple Mastectomy       26-Mar-19          11-Oct-19   \n",
            "332                   Lumpectomy       26-Nov-18          05-Dec-18   \n",
            "333  Modified Radical Mastectomy       04-Feb-19          10-Aug-19   \n",
            "\n",
            "     Patient_Status  Gender_MALE  \n",
            "0               1.0        False  \n",
            "1               0.0        False  \n",
            "2               1.0        False  \n",
            "3               1.0        False  \n",
            "4               1.0        False  \n",
            "..              ...          ...  \n",
            "329             1.0        False  \n",
            "330             1.0        False  \n",
            "331             0.0        False  \n",
            "332             1.0        False  \n",
            "333             0.0        False  \n",
            "\n",
            "[334 rows x 12 columns]\n"
          ]
        }
      ]
    },
    {
      "cell_type": "code",
      "source": [
        "data=data.drop('Surgery_type',axis=1)"
      ],
      "metadata": {
        "id": "SaZIk1xzmdOo"
      },
      "execution_count": 19,
      "outputs": []
    },
    {
      "cell_type": "code",
      "source": [
        "print(data)"
      ],
      "metadata": {
        "colab": {
          "base_uri": "https://localhost:8080/"
        },
        "id": "XRp_dFgeminZ",
        "outputId": "7663cf6b-0999-4fa1-f222-0a705b2a15cc"
      },
      "execution_count": 20,
      "outputs": [
        {
          "output_type": "stream",
          "name": "stdout",
          "text": [
            "     Age  Protein1  Protein2  Protein3  Protein4  Tumour_Stage ER status  \\\n",
            "0     42  0.952560   2.15000  0.007972 -0.048340             2  Positive   \n",
            "1     54  0.000000   1.38020 -0.498030 -0.507320             2  Positive   \n",
            "2     63 -0.523030   1.76400 -0.370190  0.010815             2  Positive   \n",
            "3     78 -0.876180   0.12943 -0.370380  0.132190             1  Positive   \n",
            "4     42  0.226110   1.74910 -0.543970 -0.390210             2  Positive   \n",
            "..   ...       ...       ...       ...       ...           ...       ...   \n",
            "329   59  0.024598   1.40050  0.024751  0.280320             2  Positive   \n",
            "330   41  0.100120  -0.46547  0.472370 -0.523870             1  Positive   \n",
            "331   54  0.753820   1.64250 -0.332850  0.857860             2  Positive   \n",
            "332   74  0.972510   1.42680 -0.366570 -0.107820             2  Positive   \n",
            "333   66  0.286380   1.39980  0.318830  0.836050             2  Positive   \n",
            "\n",
            "    Date_of_Surgery Date_of_Last_Visit  Patient_Status  Gender_MALE  \n",
            "0         20-May-18          26-Aug-18             1.0        False  \n",
            "1         26-Apr-18          25-Jan-19             0.0        False  \n",
            "2         24-Aug-18          08-Apr-20             1.0        False  \n",
            "3         16-Nov-18          28-Jul-20             1.0        False  \n",
            "4         12-Dec-18          05-Jan-19             1.0        False  \n",
            "..              ...                ...             ...          ...  \n",
            "329       15-Jan-19          27-Mar-20             1.0        False  \n",
            "330       25-Jul-18          23-Apr-19             1.0        False  \n",
            "331       26-Mar-19          11-Oct-19             0.0        False  \n",
            "332       26-Nov-18          05-Dec-18             1.0        False  \n",
            "333       04-Feb-19          10-Aug-19             0.0        False  \n",
            "\n",
            "[334 rows x 11 columns]\n"
          ]
        }
      ]
    },
    {
      "cell_type": "code",
      "source": [
        "data=data.drop('Date_of_Surgery',axis=1)"
      ],
      "metadata": {
        "id": "eUnODCgYmmtj"
      },
      "execution_count": 21,
      "outputs": []
    },
    {
      "cell_type": "code",
      "source": [
        "print(data)"
      ],
      "metadata": {
        "colab": {
          "base_uri": "https://localhost:8080/"
        },
        "id": "NtZ5qtiGmsw7",
        "outputId": "9f1b03e0-a3ac-4dfe-ed11-a0cfb2cedfb2"
      },
      "execution_count": 22,
      "outputs": [
        {
          "output_type": "stream",
          "name": "stdout",
          "text": [
            "     Age  Protein1  Protein2  Protein3  Protein4  Tumour_Stage ER status  \\\n",
            "0     42  0.952560   2.15000  0.007972 -0.048340             2  Positive   \n",
            "1     54  0.000000   1.38020 -0.498030 -0.507320             2  Positive   \n",
            "2     63 -0.523030   1.76400 -0.370190  0.010815             2  Positive   \n",
            "3     78 -0.876180   0.12943 -0.370380  0.132190             1  Positive   \n",
            "4     42  0.226110   1.74910 -0.543970 -0.390210             2  Positive   \n",
            "..   ...       ...       ...       ...       ...           ...       ...   \n",
            "329   59  0.024598   1.40050  0.024751  0.280320             2  Positive   \n",
            "330   41  0.100120  -0.46547  0.472370 -0.523870             1  Positive   \n",
            "331   54  0.753820   1.64250 -0.332850  0.857860             2  Positive   \n",
            "332   74  0.972510   1.42680 -0.366570 -0.107820             2  Positive   \n",
            "333   66  0.286380   1.39980  0.318830  0.836050             2  Positive   \n",
            "\n",
            "    Date_of_Last_Visit  Patient_Status  Gender_MALE  \n",
            "0            26-Aug-18             1.0        False  \n",
            "1            25-Jan-19             0.0        False  \n",
            "2            08-Apr-20             1.0        False  \n",
            "3            28-Jul-20             1.0        False  \n",
            "4            05-Jan-19             1.0        False  \n",
            "..                 ...             ...          ...  \n",
            "329          27-Mar-20             1.0        False  \n",
            "330          23-Apr-19             1.0        False  \n",
            "331          11-Oct-19             0.0        False  \n",
            "332          05-Dec-18             1.0        False  \n",
            "333          10-Aug-19             0.0        False  \n",
            "\n",
            "[334 rows x 10 columns]\n"
          ]
        }
      ]
    },
    {
      "cell_type": "code",
      "source": [
        "data=data.drop('Date_of_Last_Visit',axis=1)"
      ],
      "metadata": {
        "id": "PsRPKYcnm-va"
      },
      "execution_count": 23,
      "outputs": []
    },
    {
      "cell_type": "code",
      "source": [
        "print(data)\n",
        "data=data.fillna(0)\n"
      ],
      "metadata": {
        "colab": {
          "base_uri": "https://localhost:8080/"
        },
        "id": "27ceWMYDnE4A",
        "outputId": "fa0e20b9-9ecd-48a5-c589-ab802660f340"
      },
      "execution_count": 27,
      "outputs": [
        {
          "output_type": "stream",
          "name": "stdout",
          "text": [
            "     Age  Protein1  Protein2  Protein3  Protein4  Tumour_Stage  \\\n",
            "0     42  0.952560   2.15000  0.007972 -0.048340             2   \n",
            "1     54  0.000000   1.38020 -0.498030 -0.507320             2   \n",
            "2     63 -0.523030   1.76400 -0.370190  0.010815             2   \n",
            "3     78 -0.876180   0.12943 -0.370380  0.132190             1   \n",
            "4     42  0.226110   1.74910 -0.543970 -0.390210             2   \n",
            "..   ...       ...       ...       ...       ...           ...   \n",
            "329   59  0.024598   1.40050  0.024751  0.280320             2   \n",
            "330   41  0.100120  -0.46547  0.472370 -0.523870             1   \n",
            "331   54  0.753820   1.64250 -0.332850  0.857860             2   \n",
            "332   74  0.972510   1.42680 -0.366570 -0.107820             2   \n",
            "333   66  0.286380   1.39980  0.318830  0.836050             2   \n",
            "\n",
            "     Patient_Status  Gender_MALE  \n",
            "0               1.0        False  \n",
            "1               0.0        False  \n",
            "2               1.0        False  \n",
            "3               1.0        False  \n",
            "4               1.0        False  \n",
            "..              ...          ...  \n",
            "329             1.0        False  \n",
            "330             1.0        False  \n",
            "331             0.0        False  \n",
            "332             1.0        False  \n",
            "333             0.0        False  \n",
            "\n",
            "[334 rows x 8 columns]\n"
          ]
        }
      ]
    },
    {
      "cell_type": "code",
      "source": [
        "data=data.drop('Gender_MALE',axis=1)\n",
        ""
      ],
      "metadata": {
        "id": "OO-_0-82nAUR"
      },
      "execution_count": 29,
      "outputs": []
    },
    {
      "cell_type": "code",
      "source": [
        "y=data['Patient_Status']\n",
        "x=data.drop('Patient_Status',axis=1)"
      ],
      "metadata": {
        "id": "uKej6Ey9qXxt"
      },
      "execution_count": 30,
      "outputs": []
    },
    {
      "cell_type": "code",
      "source": [
        "from sklearn.model_selection import train_test_split\n",
        "x_train,x_test,y_train,y_test=train_test_split(x,y,test_size=0.20,random_state=32)"
      ],
      "metadata": {
        "id": "NKYg61RDr7x4"
      },
      "execution_count": 31,
      "outputs": []
    },
    {
      "cell_type": "code",
      "source": [
        "print(x_train.shape)"
      ],
      "metadata": {
        "colab": {
          "base_uri": "https://localhost:8080/"
        },
        "id": "cNQWzJpDr_pp",
        "outputId": "72b94163-ac10-4bfe-92b1-456c3875bd3e"
      },
      "execution_count": 32,
      "outputs": [
        {
          "output_type": "stream",
          "name": "stdout",
          "text": [
            "(267, 6)\n"
          ]
        }
      ]
    },
    {
      "cell_type": "code",
      "source": [
        "print(x_test.shape)"
      ],
      "metadata": {
        "colab": {
          "base_uri": "https://localhost:8080/"
        },
        "id": "aIwqReUusIOi",
        "outputId": "36ac668c-fd65-4d60-b8cf-46dc095e8c8c"
      },
      "execution_count": 33,
      "outputs": [
        {
          "output_type": "stream",
          "name": "stdout",
          "text": [
            "(67, 6)\n"
          ]
        }
      ]
    },
    {
      "cell_type": "code",
      "source": [
        "from sklearn.tree import DecisionTreeClassifier\n",
        "dt=DecisionTreeClassifier()\n",
        "model=dt.fit(x_train,y_train)"
      ],
      "metadata": {
        "id": "2c4bS3mFlRpm"
      },
      "execution_count": 34,
      "outputs": []
    },
    {
      "cell_type": "code",
      "source": [
        "yp=model.predict(x_test)"
      ],
      "metadata": {
        "id": "4L4TJfZ9neLO"
      },
      "execution_count": 35,
      "outputs": []
    },
    {
      "cell_type": "code",
      "source": [],
      "metadata": {
        "id": "Hs8ktTVioyy6"
      },
      "execution_count": null,
      "outputs": []
    },
    {
      "cell_type": "code",
      "source": [
        "from sklearn.metrics import accuracy_score,confusion_matrix"
      ],
      "metadata": {
        "id": "ScO1COGboyfq"
      },
      "execution_count": 36,
      "outputs": []
    },
    {
      "cell_type": "code",
      "source": [
        "print(accuracy_score(y_test,yp))"
      ],
      "metadata": {
        "colab": {
          "base_uri": "https://localhost:8080/"
        },
        "id": "0qGKCj_1o0qn",
        "outputId": "ca9ab4c0-ec41-4ba8-ea20-9139ac1ff1bc"
      },
      "execution_count": 37,
      "outputs": [
        {
          "output_type": "stream",
          "name": "stdout",
          "text": [
            "0.5074626865671642\n"
          ]
        }
      ]
    },
    {
      "cell_type": "code",
      "source": [
        "print(confusion_matrix(y_test,yp))"
      ],
      "metadata": {
        "id": "Cd2nNSEuo6na",
        "outputId": "6eefefe9-f2cd-4c29-c2af-1042f9e3a44f",
        "colab": {
          "base_uri": "https://localhost:8080/"
        }
      },
      "execution_count": 38,
      "outputs": [
        {
          "output_type": "stream",
          "name": "stdout",
          "text": [
            "[[ 3 19]\n",
            " [14 31]]\n"
          ]
        }
      ]
    }
  ]
}