{
  "nbformat": 4,
  "nbformat_minor": 0,
  "metadata": {
    "colab": {
      "provenance": []
    },
    "kernelspec": {
      "name": "python3",
      "display_name": "Python 3"
    },
    "language_info": {
      "name": "python"
    }
  },
  "cells": [
    {
      "cell_type": "code",
      "execution_count": null,
      "metadata": {
        "id": "zXWdi0v6cpql"
      },
      "outputs": [],
      "source": []
    },
    {
      "cell_type": "code",
      "source": [
        "import pandas as pd\n",
        "\n",
        "# Read the data\n",
        "data = pd.read_csv(\"CC GENERAL.csv\")\n",
        "\n",
        "# Display the first few rows of the dataset\n",
        "print(data.head())\n",
        "from sklearn.cluster import KMeans\n",
        "\n",
        "# Dropping the Customer ID column as it's not relevant for clustering\n",
        "data.drop('CUST_ID', axis=1, inplace=True)\n",
        "\n",
        "# Handling missing values by replacing them with the mean of the respective columns\n",
        "data.fillna(data.mean(), inplace=True)\n",
        "\n",
        "# Instantiate the KMeans model\n",
        "kmeans = KMeans(n_clusters=3, random_state=42)\n",
        "\n",
        "# Fit the model to the data\n",
        "kmeans.fit(data)\n",
        "# Printing the cluster centers\n",
        "print(\"Cluster centers:\")\n",
        "print(kmeans.cluster_centers_)\n",
        "\n",
        "# Printing the labels assigned to each data point\n",
        "print(\"\\nLabels:\")\n",
        "print(kmeans.labels_)\n",
        "\n"
      ],
      "metadata": {
        "colab": {
          "base_uri": "https://localhost:8080/"
        },
        "id": "kbqoXnMWeDDQ",
        "outputId": "9afadaba-7624-4d40-de58-8f4c5428a43a"
      },
      "execution_count": 1,
      "outputs": [
        {
          "output_type": "stream",
          "name": "stdout",
          "text": [
            "  CUST_ID      BALANCE  BALANCE_FREQUENCY  PURCHASES  ONEOFF_PURCHASES  \\\n",
            "0  C10001    40.900749           0.818182      95.40              0.00   \n",
            "1  C10002  3202.467416           0.909091       0.00              0.00   \n",
            "2  C10003  2495.148862           1.000000     773.17            773.17   \n",
            "3  C10004  1666.670542           0.636364    1499.00           1499.00   \n",
            "4  C10005   817.714335           1.000000      16.00             16.00   \n",
            "\n",
            "   INSTALLMENTS_PURCHASES  CASH_ADVANCE  PURCHASES_FREQUENCY  \\\n",
            "0                    95.4      0.000000             0.166667   \n",
            "1                     0.0   6442.945483             0.000000   \n",
            "2                     0.0      0.000000             1.000000   \n",
            "3                     0.0    205.788017             0.083333   \n",
            "4                     0.0      0.000000             0.083333   \n",
            "\n",
            "   ONEOFF_PURCHASES_FREQUENCY  PURCHASES_INSTALLMENTS_FREQUENCY  \\\n",
            "0                    0.000000                          0.083333   \n",
            "1                    0.000000                          0.000000   \n",
            "2                    1.000000                          0.000000   \n",
            "3                    0.083333                          0.000000   \n",
            "4                    0.083333                          0.000000   \n",
            "\n",
            "   CASH_ADVANCE_FREQUENCY  CASH_ADVANCE_TRX  PURCHASES_TRX  CREDIT_LIMIT  \\\n",
            "0                0.000000                 0              2        1000.0   \n",
            "1                0.250000                 4              0        7000.0   \n",
            "2                0.000000                 0             12        7500.0   \n",
            "3                0.083333                 1              1        7500.0   \n",
            "4                0.000000                 0              1        1200.0   \n",
            "\n",
            "      PAYMENTS  MINIMUM_PAYMENTS  PRC_FULL_PAYMENT  TENURE  \n",
            "0   201.802084        139.509787          0.000000      12  \n",
            "1  4103.032597       1072.340217          0.222222      12  \n",
            "2   622.066742        627.284787          0.000000      12  \n",
            "3     0.000000               NaN          0.000000      12  \n",
            "4   678.334763        244.791237          0.000000      12  \n"
          ]
        },
        {
          "output_type": "stream",
          "name": "stderr",
          "text": [
            "/usr/local/lib/python3.10/dist-packages/sklearn/cluster/_kmeans.py:870: FutureWarning: The default value of `n_init` will change from 10 to 'auto' in 1.4. Set the value of `n_init` explicitly to suppress the warning\n",
            "  warnings.warn(\n"
          ]
        },
        {
          "output_type": "stream",
          "name": "stdout",
          "text": [
            "Cluster centers:\n",
            "[[8.59494148e+02 8.54686177e-01 6.07582445e+02 3.15378104e+02\n",
            "  2.92501396e+02 4.97367343e+02 4.68034040e-01 1.54933776e-01\n",
            "  3.52308934e-01 1.06818468e-01 2.25579268e+00 1.07134146e+01\n",
            "  2.76781525e+03 9.99922768e+02 5.85694557e+02 1.57157519e-01\n",
            "  1.14358232e+01]\n",
            " [3.42565235e+03 9.40897346e-01 1.58945272e+03 9.93496267e+02\n",
            "  5.96273109e+02 2.13897191e+03 5.40037602e-01 3.17643116e-01\n",
            "  3.85684063e-01 2.12270924e-01 5.79168510e+00 2.21915082e+01\n",
            "  9.04905110e+03 2.92251776e+03 1.58020213e+03 1.33264550e-01\n",
            "  1.17355153e+01]\n",
            " [4.79355142e+03 9.10564109e-01 1.08464326e+04 7.65224070e+03\n",
            "  3.19436248e+03 5.13140467e+03 7.54334023e-01 6.00307085e-01\n",
            "  6.08805682e-01 2.23774271e-01 9.17829457e+00 8.68062016e+01\n",
            "  1.24693798e+04 1.81731121e+04 2.47794764e+03 3.37066930e-01\n",
            "  1.18372093e+01]]\n",
            "\n",
            "Labels:\n",
            "[0 1 1 ... 0 0 0]\n"
          ]
        }
      ]
    }
  ]
}